{
 "cells": [
  {
   "cell_type": "markdown",
   "id": "529e306d-fd9b-4df3-8676-e1e0dfa8c1ef",
   "metadata": {},
   "source": [
    "# Q1. Load the \"titanic\" dataset using the load_dataset function of seaborn. Use Plotly express to plot a scatter plot for age and fare columns in the titanic dataset."
   ]
  },
  {
   "cell_type": "code",
   "execution_count": null,
   "id": "b43f08ab-a23f-4442-bb7e-8f0f8a1ac988",
   "metadata": {},
   "outputs": [],
   "source": [
    "import seaborn as sns\n",
    "import plotly.express as px\n",
    "\n",
    "titanic_df = sns.load_dataset('titanic')\n",
    "\n",
    "fig = px.scatter(titanic_df, x='age', y='fare')\n",
    "\n",
    "fig.show()"
   ]
  },
  {
   "cell_type": "markdown",
   "id": "efe61ecb-1fe2-499f-996f-a35574c9fa20",
   "metadata": {},
   "source": [
    "# Q2. Using the tips dataset in the Plotly library, plot a box plot using Plotly express."
   ]
  },
  {
   "cell_type": "code",
   "execution_count": null,
   "id": "f8f08361-1f18-4081-83a5-d2fc3ad3fd05",
   "metadata": {},
   "outputs": [],
   "source": [
    "tips_df = px.data.tips()\n",
    "\n",
    "fig = px.box(tips_df, x='day', y='total_bill')\n",
    "\n",
    "fig.show()"
   ]
  },
  {
   "cell_type": "markdown",
   "id": "584ad345-6d00-445b-af27-4cca7ecb2268",
   "metadata": {},
   "source": [
    "# Q3. Using the tips dataset in the Plotly library, Plot a histogram for x= \"sex\" and y=\"total_bill\" column in the tips dataset. Also, use the \"smoker\" column with the pattern_shape parameter and the \"day\" column with the color parameter."
   ]
  },
  {
   "cell_type": "code",
   "execution_count": null,
   "id": "2d387e3e-4746-44fa-838d-0901a07078c4",
   "metadata": {},
   "outputs": [],
   "source": [
    "tips_df = px.data.tips()\n",
    "\n",
    "fig = px.histogram(tips_df, x='sex', y='total_bill', color='day', pattern_shape='smoker')\n",
    "\n",
    "fig.show()"
   ]
  },
  {
   "cell_type": "markdown",
   "id": "061d8870-9707-4eca-9f48-c03e85c25ed0",
   "metadata": {},
   "source": [
    "# Q4. Using the iris dataset in the Plotly library, Plot a scatter matrix plot, using the \"species\" column for the color parameter.\n",
    "# Note: Use \"sepal_length\", \"sepal_width\", \"petal_length\", \"petal_width\" columns only with the dimensions parameter."
   ]
  },
  {
   "cell_type": "code",
   "execution_count": null,
   "id": "f8c7f100-b6e9-44bf-a7f7-d16ee31e2552",
   "metadata": {},
   "outputs": [],
   "source": [
    "iris_df = px.data.iris()\n",
    "\n",
    "fig = px.scatter_matrix(iris_df, dimensions=['sepal_length', 'sepal_width', 'petal_length', 'petal_width'], color='species')\n",
    "\n",
    "fig.show()"
   ]
  },
  {
   "cell_type": "markdown",
   "id": "df4aa78b-2dd2-4e9c-af5b-ebbb0118928a",
   "metadata": {},
   "source": [
    "# Q5. What is Distplot? Using Plotly express, plot a distplot."
   ]
  },
  {
   "cell_type": "markdown",
   "id": "cc083a67-7752-4cff-8da4-372d8549bc5c",
   "metadata": {},
   "source": [
    "Distplot is a function in the Seaborn library that can be used to visualize the distribution of a single variable. It combines a histogram and a kernel density estimate plot to show the shape of the distribution and the density estimate of the data. The distplot function is now deprecated and has been replaced by the displot function in Seaborn."
   ]
  },
  {
   "cell_type": "code",
   "execution_count": null,
   "id": "6b16afa8-7d45-4d51-be36-3f1785eb3110",
   "metadata": {},
   "outputs": [],
   "source": []
  }
 ],
 "metadata": {
  "kernelspec": {
   "display_name": "Python 3 (ipykernel)",
   "language": "python",
   "name": "python3"
  },
  "language_info": {
   "codemirror_mode": {
    "name": "ipython",
    "version": 3
   },
   "file_extension": ".py",
   "mimetype": "text/x-python",
   "name": "python",
   "nbconvert_exporter": "python",
   "pygments_lexer": "ipython3",
   "version": "3.10.8"
  }
 },
 "nbformat": 4,
 "nbformat_minor": 5
}
